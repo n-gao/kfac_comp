{
 "cells": [
  {
   "cell_type": "code",
   "execution_count": 1,
   "metadata": {},
   "outputs": [],
   "source": [
    "import numpy as np\n",
    "import tensorflow as tf\n",
    "from collections import OrderedDict\n",
    "import tqdm\n",
    "import matplotlib.pyplot as plt\n",
    "from plotting import plot_3d, plot_2d\n",
    "from tf2kfac import tf2KFAC\n",
    "%matplotlib widget"
   ]
  },
  {
   "cell_type": "markdown",
   "metadata": {},
   "source": [
    "### First lets compare the pure loss computation"
   ]
  },
  {
   "cell_type": "code",
   "execution_count": 2,
   "metadata": {},
   "outputs": [],
   "source": [
    "input_data = tf.convert_to_tensor(np.load('data/input.npy'), dtype=tf.float32)\n",
    "weights = tf.convert_to_tensor(np.load('data/weights.npy'), dtype=tf.float32)\n",
    "target = tf.convert_to_tensor(np.load('data/target.npy'), dtype=tf.float32)"
   ]
  },
  {
   "cell_type": "code",
   "execution_count": 3,
   "metadata": {},
   "outputs": [
    {
     "name": "stdout",
     "output_type": "stream",
     "text": [
      "Loss tf.Tensor(5.943384, shape=(), dtype=float32)\n",
      "Gradients tf.Tensor(\n",
      "[[ 0.47266078]\n",
      " [-5.364277  ]], shape=(2, 1), dtype=float32)\n"
     ]
    }
   ],
   "source": [
    "# need a softmax layer to define the output distribution p(y | x) to compute the fisher\n",
    "\n",
    "with tf.GradientTape() as g:\n",
    "    g.watch(weights)\n",
    "    loss = tf.reduce_mean(((input_data@weights) - target)**2)  \n",
    "print('Loss', loss)\n",
    "print('Gradients', g.gradient(loss, weights))"
   ]
  },
  {
   "cell_type": "markdown",
   "metadata": {},
   "source": [
    "### KFAC"
   ]
  },
  {
   "cell_type": "code",
   "execution_count": 5,
   "metadata": {},
   "outputs": [
    {
     "name": "stdout",
     "output_type": "stream",
     "text": [
      "Factored Tikhonov damping\n",
      "0 Loss tf.Tensor(5.943384, shape=(), dtype=float32)\n",
      "10 Loss tf.Tensor(4.1790986, shape=(), dtype=float32)\n",
      "20 Loss tf.Tensor(2.651995, shape=(), dtype=float32)\n",
      "30 Loss tf.Tensor(1.4955992, shape=(), dtype=float32)\n",
      "40 Loss tf.Tensor(0.8904588, shape=(), dtype=float32)\n",
      "50 Loss tf.Tensor(0.7383152, shape=(), dtype=float32)\n",
      "60 Loss tf.Tensor(0.7188817, shape=(), dtype=float32)\n",
      "70 Loss tf.Tensor(0.7168057, shape=(), dtype=float32)\n",
      "80 Loss tf.Tensor(0.71657205, shape=(), dtype=float32)\n",
      "90 Loss tf.Tensor(0.7165429, shape=(), dtype=float32)\n"
     ]
    }
   ],
   "source": [
    "input_data = tf.convert_to_tensor(np.load('data/input.npy'), dtype=tf.float32)\n",
    "weights = tf.convert_to_tensor(np.load('data/weights.npy'), dtype=tf.float32)\n",
    "target = tf.convert_to_tensor(np.load('data/target.npy'), dtype=tf.float32)\n",
    "kfac = tf2KFAC(lr0=0.001,\n",
    "               cov_weight=1.,\n",
    "               cov_moving_weight=0.95,\n",
    "               damping=0.001,\n",
    "               conv_approx='mg',\n",
    "               damping_method='factored_tikhonov',\n",
    "               ft_method='original')\n",
    "\n",
    "history = []\n",
    "for i in range(100):\n",
    "    activations = input_data\n",
    "    with tf.GradientTape(persistent=True) as g:\n",
    "        g.watch(weights)\n",
    "        prediction = input_data@weights\n",
    "        loss = tf.reduce_mean((prediction - target)**2)\n",
    "    sensitivities = g.gradient(loss, prediction)\n",
    "    grads = g.gradient(loss, weights)\n",
    "    ng = kfac.compute_updates([activations], [sensitivities], [grads], i)\n",
    "    history.append(np.concatenate([weights.numpy().reshape(-1), loss.numpy()[None]]))\n",
    "    weights = weights + ng[0]\n",
    "    if i % 10 == 0:\n",
    "        print(i, 'Loss', loss)\n",
    "history = np.array(history, dtype=np.float32)"
   ]
  },
  {
   "cell_type": "code",
   "execution_count": 6,
   "metadata": {},
   "outputs": [
    {
     "data": {
      "application/vnd.jupyter.widget-view+json": {
       "model_id": "84073845846d4fa8abd050e73c693a81",
       "version_major": 2,
       "version_minor": 0
      },
      "text/plain": [
       "Canvas(toolbar=Toolbar(toolitems=[('Home', 'Reset original view', 'home', 'home'), ('Back', 'Back to previous …"
      ]
     },
     "metadata": {},
     "output_type": "display_data"
    }
   ],
   "source": [
    "plt.close()\n",
    "plot_3d(history, input_data, target)\n",
    "plt.show()"
   ]
  },
  {
   "cell_type": "code",
   "execution_count": 7,
   "metadata": {},
   "outputs": [
    {
     "data": {
      "application/vnd.jupyter.widget-view+json": {
       "model_id": "e539451624c840189305cdb6ea1ac7de",
       "version_major": 2,
       "version_minor": 0
      },
      "text/plain": [
       "Canvas(toolbar=Toolbar(toolitems=[('Home', 'Reset original view', 'home', 'home'), ('Back', 'Back to previous …"
      ]
     },
     "metadata": {},
     "output_type": "display_data"
    }
   ],
   "source": [
    "plt.close()\n",
    "plt.title('TF2 KFAC')\n",
    "plot_2d(history, input_data, target, (-0.5, 1, -3, 1))\n",
    "plt.show()"
   ]
  },
  {
   "cell_type": "code",
   "execution_count": null,
   "metadata": {},
   "outputs": [],
   "source": []
  }
 ],
 "metadata": {
  "kernelspec": {
   "display_name": "Python 3",
   "language": "python",
   "name": "python3"
  },
  "language_info": {
   "codemirror_mode": {
    "name": "ipython",
    "version": 3
   },
   "file_extension": ".py",
   "mimetype": "text/x-python",
   "name": "python",
   "nbconvert_exporter": "python",
   "pygments_lexer": "ipython3",
   "version": "3.7.6"
  }
 },
 "nbformat": 4,
 "nbformat_minor": 4
}
