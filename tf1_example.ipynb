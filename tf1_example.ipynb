{
 "cells": [
  {
   "cell_type": "code",
   "execution_count": 2,
   "metadata": {},
   "outputs": [],
   "source": [
    "import tensorflow as tf\n",
    "import numpy as np"
   ]
  },
  {
   "cell_type": "markdown",
   "metadata": {},
   "source": [
    "### First lets compare the pure loss computation"
   ]
  },
  {
   "cell_type": "code",
   "execution_count": 3,
   "metadata": {},
   "outputs": [
    {
     "name": "stdout",
     "output_type": "stream",
     "text": [
      "WARNING:tensorflow:From C:\\Users\\nicho\\miniconda3\\envs\\tf1\\lib\\site-packages\\tensorflow\\python\\ops\\math_grad.py:1205: add_dispatch_support.<locals>.wrapper (from tensorflow.python.ops.array_ops) is deprecated and will be removed in a future version.\n",
      "Instructions for updating:\n",
      "Use tf.where in 2.0, which has the same broadcast rule as np.where\n"
     ]
    }
   ],
   "source": [
    "input_data = tf.convert_to_tensor(np.load('data/input.npy'))\n",
    "weights = tf.convert_to_tensor(np.load('data/weights.npy'))\n",
    "target = tf.convert_to_tensor(np.load('data/target.npy'))\n",
    "\n",
    "# need a predictive distribution layer to define the output distribution p(y | x) to compute the fisher\n",
    "\n",
    "predictions = input_data@weights\n",
    "loss = tf.reduce_mean((predictions - target) ** 2)\n",
    "grads = tf.gradients(loss, weights)"
   ]
  },
  {
   "cell_type": "code",
   "execution_count": 4,
   "metadata": {},
   "outputs": [
    {
     "name": "stdout",
     "output_type": "stream",
     "text": [
      "Loss 9.853837576367901\n",
      "Grads [array([[ 0.63178222],\n",
      "       [ 1.60616247],\n",
      "       [ 2.99499008],\n",
      "       [-2.06971753],\n",
      "       [-0.81690381],\n",
      "       [ 0.07546019],\n",
      "       [-2.35599685],\n",
      "       [ 6.14043213]])]\n"
     ]
    }
   ],
   "source": [
    "with tf.Session() as sess:\n",
    "    loss_, grads_ = sess.run([loss, grads])\n",
    "    print('Loss', loss_)\n",
    "    print('Grads', grads_)"
   ]
  },
  {
   "cell_type": "markdown",
   "metadata": {},
   "source": [
    "### This time with kfac"
   ]
  },
  {
   "cell_type": "code",
   "execution_count": 5,
   "metadata": {},
   "outputs": [
    {
     "name": "stdout",
     "output_type": "stream",
     "text": [
      "WARNING:tensorflow:From C:\\Users\\nicho\\miniconda3\\envs\\tf1\\lib\\site-packages\\kfac\\python\\ops\\utils.py:38: The name tf.assign is deprecated. Please use tf.compat.v1.assign instead.\n",
      "\n",
      "WARNING:tensorflow:From C:\\Users\\nicho\\miniconda3\\envs\\tf1\\lib\\site-packages\\kfac\\python\\ops\\optimizer.py:48: The name tf.train.GradientDescentOptimizer is deprecated. Please use tf.compat.v1.train.GradientDescentOptimizer instead.\n",
      "\n",
      "WARNING:tensorflow:From C:\\Users\\nicho\\miniconda3\\envs\\tf1\\lib\\site-packages\\kfac\\python\\ops\\optimizer.py:526: The name tf.train.Optimizer is deprecated. Please use tf.compat.v1.train.Optimizer instead.\n",
      "\n"
     ]
    }
   ],
   "source": [
    "import kfac"
   ]
  },
  {
   "cell_type": "code",
   "execution_count": 6,
   "metadata": {},
   "outputs": [],
   "source": [
    "input_data = tf.convert_to_tensor(np.load('data/input.npy'), dtype=tf.float32)\n",
    "weights = tf.Variable(tf.convert_to_tensor(np.load('data/weights.npy'), dtype=tf.float32))\n",
    "target = tf.convert_to_tensor(np.load('data/target.npy'), dtype=tf.float32)\n",
    "prediction = input_data@weights\n",
    "loss = tf.reduce_mean((prediction - target) ** 2)"
   ]
  },
  {
   "cell_type": "code",
   "execution_count": 7,
   "metadata": {},
   "outputs": [
    {
     "name": "stdout",
     "output_type": "stream",
     "text": [
      "WARNING:tensorflow:From C:\\Users\\nicho\\miniconda3\\envs\\tf1\\lib\\site-packages\\kfac\\python\\ops\\layer_collection.py:201: The name tf.get_default_graph is deprecated. Please use tf.compat.v1.get_default_graph instead.\n",
      "\n",
      "WARNING:tensorflow:From C:\\Users\\nicho\\miniconda3\\envs\\tf1\\lib\\site-packages\\kfac\\python\\ops\\layer_collection.py:218: The name tf.variable_scope is deprecated. Please use tf.compat.v1.variable_scope instead.\n",
      "\n",
      "WARNING:tensorflow:From C:\\Users\\nicho\\miniconda3\\envs\\tf1\\lib\\site-packages\\kfac\\python\\ops\\layer_collection.py:503: The name tf.get_variable_scope is deprecated. Please use tf.compat.v1.get_variable_scope instead.\n",
      "\n",
      "WARNING:tensorflow:From C:\\Users\\nicho\\miniconda3\\envs\\tf1\\lib\\site-packages\\kfac\\python\\ops\\layer_collection.py:392: The name tf.trainable_variables is deprecated. Please use tf.compat.v1.trainable_variables instead.\n",
      "\n"
     ]
    }
   ],
   "source": [
    "layer_collection = kfac.LayerCollection()\n",
    "layer_collection.register_normal_predictive_distribution(prediction)\n",
    "layer_collection.auto_register_layers()"
   ]
  },
  {
   "cell_type": "code",
   "execution_count": 8,
   "metadata": {},
   "outputs": [
    {
     "name": "stdout",
     "output_type": "stream",
     "text": [
      "WARNING:tensorflow:From C:\\Users\\nicho\\miniconda3\\envs\\tf1\\lib\\site-packages\\kfac\\python\\ops\\layer_collection.py:663: _colocate_with (from tensorflow.python.framework.ops) is deprecated and will be removed in a future version.\n",
      "Instructions for updating:\n",
      "Colocations handled automatically by placer.\n"
     ]
    }
   ],
   "source": [
    "optimizer = kfac.PeriodicInvCovUpdateKfacOpt(learning_rate=0.01, damping=0.001, layer_collection=layer_collection)\n",
    "train_op = optimizer.minimize(loss)"
   ]
  },
  {
   "cell_type": "code",
   "execution_count": 9,
   "metadata": {},
   "outputs": [
    {
     "name": "stdout",
     "output_type": "stream",
     "text": [
      "INFO:tensorflow:Graph was finalized.\n",
      "INFO:tensorflow:Running local_init_op.\n",
      "INFO:tensorflow:Done running local_init_op.\n",
      "[9.853838, False]\n",
      "[9.704395, False]\n",
      "[9.424839, False]\n",
      "[9.036039, False]\n",
      "[8.559359, False]\n",
      "[8.015802, False]\n",
      "[7.425359, False]\n",
      "[6.8064904, False]\n",
      "[6.1757965, False]\n",
      "[5.5477877, False]\n",
      "[4.934786, False]\n",
      "[4.141737, False]\n",
      "[3.4161258, False]\n",
      "[2.767179, False]\n",
      "[2.1999998, False]\n",
      "[1.7160661, False]\n",
      "[1.3137965, False]\n",
      "[0.98913455, False]\n",
      "[0.73613226, False]\n",
      "[0.54750144, False]\n",
      "[0.4151209, False]\n",
      "[0.331097, False]\n",
      "[0.28566372, False]\n",
      "[0.27078822, False]\n",
      "[0.27898955, False]\n",
      "[0.30350938, False]\n",
      "[0.3384235, False]\n",
      "[0.37870085, False]\n",
      "[0.42021745, False]\n",
      "[0.45973313, False]\n",
      "[0.4948387, False]\n",
      "[0.5204909, False]\n",
      "[0.5398412, False]\n",
      "[0.55264235, False]\n",
      "[0.5590034, False]\n",
      "[0.5593107, False]\n",
      "[0.5541539, False]\n",
      "[0.5442607, False]\n",
      "[0.53043866, False]\n",
      "[0.5135265, False]\n",
      "[0.49435362, False]\n",
      "[0.47449356, False]\n",
      "[0.45386225, False]\n",
      "[0.43306267, False]\n",
      "[0.4126137, False]\n",
      "[0.392946, False]\n",
      "[0.37440193, False]\n",
      "[0.3572382, False]\n",
      "[0.3416319, False]\n",
      "[0.3276877, False]\n",
      "[0.3154468, False]\n",
      "[0.3053618, False]\n",
      "[0.29677254, False]\n",
      "[0.28959614, False]\n",
      "[0.28372726, False]\n",
      "[0.27904484, False]\n",
      "[0.27541855, False]\n",
      "[0.27271408, False]\n",
      "[0.27079773, False]\n",
      "[0.2695401, False]\n",
      "[0.26881918, False]\n",
      "[0.26850998, False]\n",
      "[0.26860517, False]\n",
      "[0.2689887, False]\n",
      "[0.26955956, False]\n",
      "[0.27023232, False]\n",
      "[0.27093688, False]\n",
      "[0.27161795, False]\n",
      "[0.27223402, False]\n",
      "[0.2727559, False]\n",
      "[0.27316543, False]\n",
      "[0.2734684, False]\n",
      "[0.27364278, False]\n",
      "[0.27369338, False]\n",
      "[0.27363008, False]\n",
      "[0.2734666, False]\n",
      "[0.27321893, False]\n",
      "[0.27290416, False]\n",
      "[0.27253968, False]\n",
      "[0.27214217, False]\n",
      "[0.2717272, False]\n",
      "[0.27132022, False]\n",
      "[0.27092022, False]\n",
      "[0.27053666, False]\n",
      "[0.2701769, False]\n",
      "[0.26984635, False]\n",
      "[0.26954883, False]\n",
      "[0.26928633, False]\n",
      "[0.26905948, False]\n",
      "[0.26886773, False]\n",
      "[0.26870948, False]\n",
      "[0.26858678, False]\n",
      "[0.26849052, False]\n",
      "[0.2684178, False]\n",
      "[0.2683655, False]\n",
      "[0.26833043, False]\n",
      "[0.26830962, False]\n",
      "[0.26830015, False]\n",
      "[0.26829943, False]\n",
      "[0.268305, False]\n"
     ]
    }
   ],
   "source": [
    "with tf.train.MonitoredTrainingSession() as sess:\n",
    "    for _ in range(100):\n",
    "        print(sess.run([loss, train_op]))"
   ]
  },
  {
   "cell_type": "code",
   "execution_count": null,
   "metadata": {},
   "outputs": [],
   "source": []
  }
 ],
 "metadata": {
  "kernelspec": {
   "display_name": "Python 3",
   "language": "python",
   "name": "python3"
  },
  "language_info": {
   "codemirror_mode": {
    "name": "ipython",
    "version": 3
   },
   "file_extension": ".py",
   "mimetype": "text/x-python",
   "name": "python",
   "nbconvert_exporter": "python",
   "pygments_lexer": "ipython3",
   "version": "3.7.3"
  }
 },
 "nbformat": 4,
 "nbformat_minor": 4
}
