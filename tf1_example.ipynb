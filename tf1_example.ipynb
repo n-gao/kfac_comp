{
 "cells": [
  {
   "cell_type": "code",
   "execution_count": null,
   "metadata": {},
   "outputs": [],
   "source": [
    "import tensorflow as tf\n",
    "import numpy as np"
   ]
  },
  {
   "cell_type": "markdown",
   "metadata": {},
   "source": [
    "### First lets compare the pure loss computation"
   ]
  },
  {
   "cell_type": "code",
   "execution_count": null,
   "metadata": {},
   "outputs": [],
   "source": [
    "input_data = tf.convert_to_tensor(np.load('data/input.npy'))\n",
    "weights = tf.convert_to_tensor(np.load('data/weights.npy'))\n",
    "target = tf.convert_to_tensor(np.load('data/target.npy'))"
   ]
  },
  {
   "cell_type": "code",
   "execution_count": null,
   "metadata": {},
   "outputs": [],
   "source": [
    "loss = tf.reduce_mean((input_data@weights - target)**2)"
   ]
  },
  {
   "cell_type": "code",
   "execution_count": 4,
   "metadata": {},
   "outputs": [
    {
     "name": "stdout",
     "output_type": "stream",
     "text": [
      "[9.853837576367901]\n"
     ]
    }
   ],
   "source": [
    "with tf.Session() as sess:\n",
    "    print(sess.run([loss]))"
   ]
  },
  {
   "cell_type": "markdown",
   "metadata": {},
   "source": [
    "### This time with kfac"
   ]
  },
  {
   "cell_type": "code",
   "execution_count": 5,
   "metadata": {},
   "outputs": [
    {
     "name": "stdout",
     "output_type": "stream",
     "text": [
      "WARNING:tensorflow:From C:\\Users\\nicho\\miniconda3\\envs\\tf1\\lib\\site-packages\\kfac\\python\\ops\\utils.py:38: The name tf.assign is deprecated. Please use tf.compat.v1.assign instead.\n",
      "\n",
      "WARNING:tensorflow:From C:\\Users\\nicho\\miniconda3\\envs\\tf1\\lib\\site-packages\\kfac\\python\\ops\\optimizer.py:48: The name tf.train.GradientDescentOptimizer is deprecated. Please use tf.compat.v1.train.GradientDescentOptimizer instead.\n",
      "\n",
      "WARNING:tensorflow:From C:\\Users\\nicho\\miniconda3\\envs\\tf1\\lib\\site-packages\\kfac\\python\\ops\\optimizer.py:526: The name tf.train.Optimizer is deprecated. Please use tf.compat.v1.train.Optimizer instead.\n",
      "\n"
     ]
    }
   ],
   "source": [
    "import kfac"
   ]
  },
  {
   "cell_type": "code",
   "execution_count": 6,
   "metadata": {},
   "outputs": [],
   "source": [
    "input_data = tf.convert_to_tensor(np.load('data/input.npy'), dtype=tf.float32)\n",
    "weights = tf.Variable(tf.convert_to_tensor(np.load('data/weights.npy'), dtype=tf.float32))\n",
    "target = tf.convert_to_tensor(np.load('data/target.npy'), dtype=tf.float32)\n",
    "prediction = input_data@weights\n",
    "loss = tf.reduce_mean((prediction - target) ** 2)"
   ]
  },
  {
   "cell_type": "code",
   "execution_count": 7,
   "metadata": {},
   "outputs": [
    {
     "name": "stdout",
     "output_type": "stream",
     "text": [
      "WARNING:tensorflow:From C:\\Users\\nicho\\miniconda3\\envs\\tf1\\lib\\site-packages\\kfac\\python\\ops\\layer_collection.py:201: The name tf.get_default_graph is deprecated. Please use tf.compat.v1.get_default_graph instead.\n",
      "\n",
      "WARNING:tensorflow:From C:\\Users\\nicho\\miniconda3\\envs\\tf1\\lib\\site-packages\\kfac\\python\\ops\\layer_collection.py:218: The name tf.variable_scope is deprecated. Please use tf.compat.v1.variable_scope instead.\n",
      "\n",
      "WARNING:tensorflow:From C:\\Users\\nicho\\miniconda3\\envs\\tf1\\lib\\site-packages\\kfac\\python\\ops\\layer_collection.py:503: The name tf.get_variable_scope is deprecated. Please use tf.compat.v1.get_variable_scope instead.\n",
      "\n",
      "WARNING:tensorflow:From C:\\Users\\nicho\\miniconda3\\envs\\tf1\\lib\\site-packages\\kfac\\python\\ops\\layer_collection.py:392: The name tf.trainable_variables is deprecated. Please use tf.compat.v1.trainable_variables instead.\n",
      "\n",
      "WARNING:tensorflow:From C:\\Users\\nicho\\miniconda3\\envs\\tf1\\lib\\site-packages\\kfac\\python\\ops\\layer_collection.py:430: The name tf.AUTO_REUSE is deprecated. Please use tf.compat.v1.AUTO_REUSE instead.\n",
      "\n"
     ]
    }
   ],
   "source": [
    "layer_collection = kfac.LayerCollection()\n",
    "layer_collection.register_normal_predictive_distribution(prediction)\n",
    "layer_collection.auto_register_layers()"
   ]
  },
  {
   "cell_type": "code",
   "execution_count": 8,
   "metadata": {},
   "outputs": [
    {
     "name": "stdout",
     "output_type": "stream",
     "text": [
      "WARNING:tensorflow:From C:\\Users\\nicho\\miniconda3\\envs\\tf1\\lib\\site-packages\\kfac\\python\\ops\\optimizer.py:334: The name tf.get_variable is deprecated. Please use tf.compat.v1.get_variable instead.\n",
      "\n",
      "WARNING:tensorflow:From C:\\Users\\nicho\\miniconda3\\envs\\tf1\\lib\\site-packages\\tensorflow_core\\python\\ops\\resource_variable_ops.py:1630: calling BaseResourceVariable.__init__ (from tensorflow.python.ops.resource_variable_ops) with constraint is deprecated and will be removed in a future version.\n",
      "Instructions for updating:\n",
      "If using Keras pass *_constraint arguments to layers.\n",
      "WARNING:tensorflow:From C:\\Users\\nicho\\miniconda3\\envs\\tf1\\lib\\site-packages\\kfac\\python\\ops\\layer_collection.py:663: _colocate_with (from tensorflow.python.framework.ops) is deprecated and will be removed in a future version.\n",
      "Instructions for updating:\n",
      "Colocations handled automatically by placer.\n",
      "WARNING:tensorflow:From C:\\Users\\nicho\\miniconda3\\envs\\tf1\\lib\\site-packages\\kfac\\python\\ops\\utils.py:905: The name tf.assign_add is deprecated. Please use tf.compat.v1.assign_add instead.\n",
      "\n",
      "WARNING:tensorflow:From C:\\Users\\nicho\\miniconda3\\envs\\tf1\\lib\\site-packages\\tensorflow_core\\python\\ops\\math_grad.py:1375: where (from tensorflow.python.ops.array_ops) is deprecated and will be removed in a future version.\n",
      "Instructions for updating:\n",
      "Use tf.where in 2.0, which has the same broadcast rule as np.where\n",
      "WARNING:tensorflow:From C:\\Users\\nicho\\miniconda3\\envs\\tf1\\lib\\site-packages\\kfac\\python\\ops\\kfac_utils\\periodic_inv_cov_update_kfac_opt.py:181: The name tf.mod is deprecated. Please use tf.math.mod instead.\n",
      "\n",
      "WARNING:tensorflow:From C:\\Users\\nicho\\miniconda3\\envs\\tf1\\lib\\site-packages\\kfac\\python\\ops\\fisher_blocks.py:99: The name tf.assert_positive is deprecated. Please use tf.compat.v1.assert_positive instead.\n",
      "\n"
     ]
    }
   ],
   "source": [
    "optimizer = kfac.PeriodicInvCovUpdateKfacOpt(learning_rate=0.01, damping=0.001, layer_collection=layer_collection)\n",
    "train_op = optimizer.minimize(loss)"
   ]
  },
  {
   "cell_type": "code",
   "execution_count": 30,
   "metadata": {},
   "outputs": [
    {
     "name": "stdout",
     "output_type": "stream",
     "text": [
      "INFO:tensorflow:Graph was finalized.\n",
      "INFO:tensorflow:Running local_init_op.\n",
      "INFO:tensorflow:Done running local_init_op.\n",
      "[9.853838, False]\n",
      "[9.7114525, False]\n",
      "[9.444899, False]\n",
      "[9.073734, False]\n",
      "[8.617912, False]\n",
      "[8.097036, False]\n",
      "[7.5297604, False]\n",
      "[6.933347, False]\n",
      "[6.323368, False]\n",
      "[5.713499, False]\n"
     ]
    }
   ],
   "source": [
    "with tf.train.MonitoredTrainingSession() as sess:\n",
    "    for _ in range(10):\n",
    "        print(sess.run([loss, train_op]))"
   ]
  },
  {
   "cell_type": "code",
   "execution_count": null,
   "metadata": {},
   "outputs": [],
   "source": []
  }
 ],
 "metadata": {
  "kernelspec": {
   "display_name": "tf1",
   "language": "python",
   "name": "tf1"
  },
  "language_info": {
   "codemirror_mode": {
    "name": "ipython",
    "version": 3
   },
   "file_extension": ".py",
   "mimetype": "text/x-python",
   "name": "python",
   "nbconvert_exporter": "python",
   "pygments_lexer": "ipython3",
   "version": "3.6.10"
  }
 },
 "nbformat": 4,
 "nbformat_minor": 4
}
