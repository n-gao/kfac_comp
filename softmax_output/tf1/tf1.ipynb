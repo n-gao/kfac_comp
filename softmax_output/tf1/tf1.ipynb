{
 "cells": [
  {
   "cell_type": "code",
   "execution_count": null,
   "metadata": {},
   "outputs": [],
   "source": [
    "import os\n",
    "os.environ['CUDA_VISIBLE_DEVICES'] = ''\n",
    "import tensorflow as tf\n",
    "from tensorflow import layers\n",
    "from utils import *\n",
    "import kfac\n",
    "import numpy as np"
   ]
  },
  {
   "cell_type": "code",
   "execution_count": null,
   "metadata": {},
   "outputs": [],
   "source": [
    "# tf.random.set_random_seed(127)\n",
    "# https://github.com/tensorflow/kfac/blob/cf6265590944b5b937ff0ceaf4695a72c95a02b9/kfac/examples/convnet.py#L587\n",
    "batch_size = 4\n",
    "weights = load_pk('weights.pk')\n",
    "data = load_pk('data.pk')[:batch_size, :]\n",
    "labels = load_pk('labels.pk')[:batch_size]\n",
    "input_dim, output_dim = weights.shape\n",
    "\n",
    "x = tf.placeholder(\"float\", [None, input_dim])\n",
    "y = tf.placeholder(\"float\", [None])\n",
    "\n",
    "init = tf.constant_initializer(weights)\n",
    "layer = tf.layers.Dense(output_dim, kernel_initializer=init, use_bias=False)\n",
    "logits = layer(x)\n",
    "\n",
    "loss = tf.reduce_mean(tf.nn.sparse_softmax_cross_entropy_with_logits(labels=labels, logits=logits))\n",
    "\n",
    "layer_collection = kfac.LayerCollection()\n",
    "layer_collection.register_softmax_cross_entropy_loss(logits, name=\"logits\")\n",
    "layer_collection.auto_register_layers()\n",
    "\n",
    "optimizer = kfac.PeriodicInvCovUpdateKfacOpt(\n",
    "                                             invert_every=1,\n",
    "                                             cov_update_every=1,\n",
    "                                             learning_rate=0.0001,\n",
    "                                             cov_ema_decay=0.95,\n",
    "                                             damping=0.001,\n",
    "                                             layer_collection=layer_collection)\n",
    "\n",
    "train_op = optimizer.minimize(loss)\n",
    "\n",
    "with tf.control_dependencies([train_op]):  # make sure this happens after the train block\n",
    "    cov_vars = optimizer.get_cov_vars()\n",
    "\n",
    "config = tf.ConfigProto(allow_soft_placement=True)\n",
    "with tf.train.MonitoredTrainingSession(config=config) as sess:  # have to use this because of something to do with the device placement?\n",
    "    loss_, logits_, covs_, _ = sess.run([loss, logits, cov_vars, train_op], feed_dict={x:data, y:labels})\n",
    "\n",
    "print(loss_)\n",
    "print(covs_[0])\n",
    "print(covs_[1])"
   ]
  },
  {
   "cell_type": "code",
   "execution_count": null,
   "metadata": {},
   "outputs": [],
   "source": []
  }
 ],
 "metadata": {
  "kernelspec": {
   "display_name": "Python 3",
   "language": "python",
   "name": "python3"
  },
  "language_info": {
   "codemirror_mode": {
    "name": "ipython",
    "version": 3
   },
   "file_extension": ".py",
   "mimetype": "text/x-python",
   "name": "python",
   "nbconvert_exporter": "python",
   "pygments_lexer": "ipython3",
   "version": "3.7.3"
  }
 },
 "nbformat": 4,
 "nbformat_minor": 2
}
