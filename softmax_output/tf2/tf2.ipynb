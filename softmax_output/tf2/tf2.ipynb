{
 "cells": [
  {
   "cell_type": "code",
   "execution_count": 18,
   "metadata": {},
   "outputs": [],
   "source": [
    "import os\n",
    "os.environ['CUDA_VISIBLE_DEVICES'] = ''\n",
    "import tensorflow as tf\n",
    "from utils import load_pk\n",
    "from tf2KFAC import tf2KFAC\n",
    "import numpy as np"
   ]
  },
  {
   "cell_type": "code",
   "execution_count": null,
   "metadata": {},
   "outputs": [],
   "source": [
    "kfac = tf2KFAC(tinv=10,\n",
    "               tcov=1,\n",
    "               lr0=0.0001,\n",
    "               cov_weight=1.,\n",
    "               cov_moving_weight=0.95,\n",
    "               damping=0.001,\n",
    "               conv_approx='mg',\n",
    "               damping_method='factored_tikhonov',\n",
    "               ft_method='original',\n",
    "               norm_constraint=0.95,\n",
    "               inp_dim=10,\n",
    "               out_dim=5)\n",
    "\n",
    "batch_size = 4\n",
    "\n",
    "weights = load_pk('weights.pk')\n",
    "data = load_pk('data.pk')\n",
    "labels = load_pk('labels.pk')\n",
    "\n",
    "data = tf.reshape(tf.convert_to_tensor(data[:batch_size, :], dtype=tf.float32), (batch_size, -1))\n",
    "labels = tf.reshape(tf.convert_to_tensor(labels[:batch_size], dtype=tf.int32), (-1,))\n",
    "weights = tf.convert_to_tensor(weights, dtype=tf.float32)\n",
    "\n",
    "# build the model\n",
    "weights = tf.Variable(weights)\n",
    "with tf.GradientTape(True) as g:\n",
    "    logits = data @ weights\n",
    "\n",
    "    dist = tf.nn.softmax(logits, axis=-1)  # this is the model distribution\n",
    "\n",
    "    nl_dist = -tf.math.log(dist)\n",
    "\n",
    "    no_mean_loss = tf.nn.sparse_softmax_cross_entropy_with_logits(labels=labels, logits=logits)\n",
    "\n",
    "    loss = tf.reduce_mean(tf.nn.sparse_softmax_cross_entropy_with_logits(labels=labels, logits=logits))\n",
    "\n",
    "# sensitivities = g.gradient(dist, logits)  # * batch_size\n",
    "sensitivities = g.gradient(nl_dist, logits)  # * batch_size\n",
    "# sensitivities = g.gradient(no_mean_loss, logits)  # * batch_size\n",
    "# sensitivities = g.gradient(loss, logits) # * batch_size\n",
    "\n",
    "print(sensitivities.shape)\n",
    "\n",
    "grads = g.gradient(loss, weights)\n",
    "\n",
    "sensitivities = [sensitivities]\n",
    "activations = [data]\n",
    "grads = [grads]\n",
    "\n",
    "ng = kfac.compute_updates(activations, sensitivities, grads, 0)\n",
    "\n",
    "print(kfac.m_aa[0])\n",
    "print(kfac.m_ss[0])"
   ]
  },
  {
   "cell_type": "code",
   "execution_count": null,
   "metadata": {},
   "outputs": [],
   "source": [
    "# TARGET\n",
    "# [array([[ 0.03410191, -0.0048112 , -0.01537001, -0.05537548,  0.04145478],\n",
    "#        [-0.0048112 ,  0.17231973, -0.04160231, -0.10379265, -0.02211356],\n",
    "#        [-0.01537001, -0.04160231,  0.2006559 , -0.12125484, -0.02242876],\n",
    "#        [-0.05537548, -0.10379265, -0.12125484,  0.32963288, -0.04920992],\n",
    "#        [ 0.04145478, -0.02211356, -0.02242876, -0.04920992,  0.05229746]],\n",
    "#       dtype=float32)]"
   ]
  },
  {
   "cell_type": "code",
   "execution_count": 19,
   "metadata": {},
   "outputs": [],
   "source": [
    "s = np.array([[ 0.00789194, -0.11012796, -0.04974077, -0.11113364,  0.26311067],\n",
    "     [-0.28675118, -0.14651796,  0.62029225,  0.16511022, -0.3521331 ],\n",
    "     [ 0.08187593,  0.13277604, -0.2824541,  -0.09003425,  0.15783665],\n",
    "     [-0.15432523,  0.20151532, -0.275451,   -0.14067313,  0.3689341 ]])\n",
    "batch_size = s.shape[0]"
   ]
  },
  {
   "cell_type": "code",
   "execution_count": 20,
   "metadata": {},
   "outputs": [
    {
     "data": {
      "text/plain": [
       "<tf.Tensor: id=42, shape=(5, 5), dtype=float64, numpy=\n",
       "array([[ 0.11280847,  0.02091734, -0.15887924, -0.03388484,  0.05903822],\n",
       "       [ 0.02091734,  0.09183358, -0.17841684, -0.05225487,  0.11792078],\n",
       "       [-0.15887924, -0.17841684,  0.54289019,  0.17212356, -0.37771764],\n",
       "       [-0.03388484, -0.05225487,  0.17212356,  0.06750717, -0.15349104],\n",
       "       [ 0.05903822,  0.11792078, -0.37771764, -0.15349104,  0.35424972]])>"
      ]
     },
     "execution_count": 20,
     "metadata": {},
     "output_type": "execute_result"
    }
   ],
   "source": [
    "s1 = tf.matmul(s, s, transpose_a=True)\n",
    "s1"
   ]
  },
  {
   "cell_type": "code",
   "execution_count": 21,
   "metadata": {},
   "outputs": [
    {
     "data": {
      "text/plain": [
       "<tf.Tensor: id=49, shape=(5, 5), dtype=float64, numpy=\n",
       "array([[ 7.71360564e-03, -1.70484414e-03, -2.77673831e-04,\n",
       "         3.88043996e-03, -9.61154520e-03],\n",
       "       [-1.70484414e-03,  3.76800897e-04,  6.13708587e-05,\n",
       "        -8.57646295e-04,  2.12432256e-03],\n",
       "       [-2.77673831e-04,  6.13708587e-05,  9.99568294e-06,\n",
       "        -1.39687803e-04,  3.45995725e-04],\n",
       "       [ 3.88043996e-03, -8.57646295e-04, -1.39687803e-04,\n",
       "         1.95211098e-03, -4.83522567e-03],\n",
       "       [-9.61154520e-03,  2.12432256e-03,  3.45995725e-04,\n",
       "        -4.83522567e-03,  1.19764745e-02]])>"
      ]
     },
     "execution_count": 21,
     "metadata": {},
     "output_type": "execute_result"
    }
   ],
   "source": [
    "rm = lambda x: tf.reduce_mean(x, axis=0, keepdims=True)\n",
    "s1 = tf.matmul(rm(s), rm(s), transpose_a=True)\n",
    "s1"
   ]
  },
  {
   "cell_type": "code",
   "execution_count": 22,
   "metadata": {},
   "outputs": [
    {
     "data": {
      "text/plain": [
       "<tf.Tensor: id=58, shape=(5, 5), dtype=float64, numpy=\n",
       "array([[ 3.08544226e-02, -6.81937654e-03, -1.11069532e-03,\n",
       "         1.55217598e-02, -3.84461808e-02],\n",
       "       [-6.81937654e-03,  1.50720359e-03,  2.45483435e-04,\n",
       "        -3.43058518e-03,  8.49729023e-03],\n",
       "       [-1.11069532e-03,  2.45483435e-04,  3.99827318e-05,\n",
       "        -5.58751214e-04,  1.38398290e-03],\n",
       "       [ 1.55217598e-02, -3.43058518e-03, -5.58751214e-04,\n",
       "         7.80844392e-03, -1.93409027e-02],\n",
       "       [-3.84461808e-02,  8.49729023e-03,  1.38398290e-03,\n",
       "        -1.93409027e-02,  4.79058979e-02]])>"
      ]
     },
     "execution_count": 22,
     "metadata": {},
     "output_type": "execute_result"
    }
   ],
   "source": [
    "rm = lambda x: tf.reduce_sum(x, axis=0, keepdims=True)\n",
    "s1 = tf.matmul(rm(s), rm(s), transpose_a=True) / batch_size\n",
    "s1"
   ]
  },
  {
   "cell_type": "code",
   "execution_count": null,
   "metadata": {},
   "outputs": [],
   "source": []
  },
  {
   "cell_type": "code",
   "execution_count": null,
   "metadata": {},
   "outputs": [],
   "source": []
  }
 ],
 "metadata": {
  "kernelspec": {
   "display_name": "Python 3",
   "language": "python",
   "name": "python3"
  },
  "language_info": {
   "codemirror_mode": {
    "name": "ipython",
    "version": 3
   },
   "file_extension": ".py",
   "mimetype": "text/x-python",
   "name": "python",
   "nbconvert_exporter": "python",
   "pygments_lexer": "ipython3",
   "version": "3.7.3"
  }
 },
 "nbformat": 4,
 "nbformat_minor": 2
}
