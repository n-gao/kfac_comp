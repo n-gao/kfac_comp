{
 "cells": [
  {
   "cell_type": "code",
   "execution_count": 1,
   "metadata": {
    "scrolled": true
   },
   "outputs": [
    {
     "name": "stderr",
     "output_type": "stream",
     "text": [
      "/home/maxiwelian/anaconda3/envs/tf1/lib/python3.7/site-packages/tensorflow/python/framework/dtypes.py:516: FutureWarning: Passing (type, 1) or '1type' as a synonym of type is deprecated; in a future version of numpy, it will be understood as (type, (1,)) / '(1,)type'.\n",
      "  _np_qint8 = np.dtype([(\"qint8\", np.int8, 1)])\n",
      "/home/maxiwelian/anaconda3/envs/tf1/lib/python3.7/site-packages/tensorflow/python/framework/dtypes.py:517: FutureWarning: Passing (type, 1) or '1type' as a synonym of type is deprecated; in a future version of numpy, it will be understood as (type, (1,)) / '(1,)type'.\n",
      "  _np_quint8 = np.dtype([(\"quint8\", np.uint8, 1)])\n",
      "/home/maxiwelian/anaconda3/envs/tf1/lib/python3.7/site-packages/tensorflow/python/framework/dtypes.py:518: FutureWarning: Passing (type, 1) or '1type' as a synonym of type is deprecated; in a future version of numpy, it will be understood as (type, (1,)) / '(1,)type'.\n",
      "  _np_qint16 = np.dtype([(\"qint16\", np.int16, 1)])\n",
      "/home/maxiwelian/anaconda3/envs/tf1/lib/python3.7/site-packages/tensorflow/python/framework/dtypes.py:519: FutureWarning: Passing (type, 1) or '1type' as a synonym of type is deprecated; in a future version of numpy, it will be understood as (type, (1,)) / '(1,)type'.\n",
      "  _np_quint16 = np.dtype([(\"quint16\", np.uint16, 1)])\n",
      "/home/maxiwelian/anaconda3/envs/tf1/lib/python3.7/site-packages/tensorflow/python/framework/dtypes.py:520: FutureWarning: Passing (type, 1) or '1type' as a synonym of type is deprecated; in a future version of numpy, it will be understood as (type, (1,)) / '(1,)type'.\n",
      "  _np_qint32 = np.dtype([(\"qint32\", np.int32, 1)])\n",
      "/home/maxiwelian/anaconda3/envs/tf1/lib/python3.7/site-packages/tensorflow/python/framework/dtypes.py:525: FutureWarning: Passing (type, 1) or '1type' as a synonym of type is deprecated; in a future version of numpy, it will be understood as (type, (1,)) / '(1,)type'.\n",
      "  np_resource = np.dtype([(\"resource\", np.ubyte, 1)])\n",
      "/home/maxiwelian/anaconda3/envs/tf1/lib/python3.7/site-packages/tensorboard/compat/tensorflow_stub/dtypes.py:541: FutureWarning: Passing (type, 1) or '1type' as a synonym of type is deprecated; in a future version of numpy, it will be understood as (type, (1,)) / '(1,)type'.\n",
      "  _np_qint8 = np.dtype([(\"qint8\", np.int8, 1)])\n",
      "/home/maxiwelian/anaconda3/envs/tf1/lib/python3.7/site-packages/tensorboard/compat/tensorflow_stub/dtypes.py:542: FutureWarning: Passing (type, 1) or '1type' as a synonym of type is deprecated; in a future version of numpy, it will be understood as (type, (1,)) / '(1,)type'.\n",
      "  _np_quint8 = np.dtype([(\"quint8\", np.uint8, 1)])\n",
      "/home/maxiwelian/anaconda3/envs/tf1/lib/python3.7/site-packages/tensorboard/compat/tensorflow_stub/dtypes.py:543: FutureWarning: Passing (type, 1) or '1type' as a synonym of type is deprecated; in a future version of numpy, it will be understood as (type, (1,)) / '(1,)type'.\n",
      "  _np_qint16 = np.dtype([(\"qint16\", np.int16, 1)])\n",
      "/home/maxiwelian/anaconda3/envs/tf1/lib/python3.7/site-packages/tensorboard/compat/tensorflow_stub/dtypes.py:544: FutureWarning: Passing (type, 1) or '1type' as a synonym of type is deprecated; in a future version of numpy, it will be understood as (type, (1,)) / '(1,)type'.\n",
      "  _np_quint16 = np.dtype([(\"quint16\", np.uint16, 1)])\n",
      "/home/maxiwelian/anaconda3/envs/tf1/lib/python3.7/site-packages/tensorboard/compat/tensorflow_stub/dtypes.py:545: FutureWarning: Passing (type, 1) or '1type' as a synonym of type is deprecated; in a future version of numpy, it will be understood as (type, (1,)) / '(1,)type'.\n",
      "  _np_qint32 = np.dtype([(\"qint32\", np.int32, 1)])\n",
      "/home/maxiwelian/anaconda3/envs/tf1/lib/python3.7/site-packages/tensorboard/compat/tensorflow_stub/dtypes.py:550: FutureWarning: Passing (type, 1) or '1type' as a synonym of type is deprecated; in a future version of numpy, it will be understood as (type, (1,)) / '(1,)type'.\n",
      "  np_resource = np.dtype([(\"resource\", np.ubyte, 1)])\n"
     ]
    },
    {
     "name": "stdout",
     "output_type": "stream",
     "text": [
      "WARNING:tensorflow:From /home/maxiwelian/anaconda3/envs/tf1/lib/python3.7/site-packages/kfac/python/ops/utils.py:38: The name tf.assign is deprecated. Please use tf.compat.v1.assign instead.\n",
      "\n",
      "WARNING:tensorflow:From /home/maxiwelian/anaconda3/envs/tf1/lib/python3.7/site-packages/kfac/python/ops/optimizer.py:48: The name tf.train.GradientDescentOptimizer is deprecated. Please use tf.compat.v1.train.GradientDescentOptimizer instead.\n",
      "\n",
      "WARNING:tensorflow:From /home/maxiwelian/anaconda3/envs/tf1/lib/python3.7/site-packages/kfac/python/ops/optimizer.py:526: The name tf.train.Optimizer is deprecated. Please use tf.compat.v1.train.Optimizer instead.\n",
      "\n"
     ]
    }
   ],
   "source": [
    "import os \n",
    "os.environ['CUDA_VISIBLE_DEVICES'] = ''\n",
    "import kfac\n",
    "import tensorflow as tf\n",
    "import numpy as np\n",
    "import matplotlib.pyplot as plt\n",
    "from plotting import plot_3d, plot_2d\n",
    "%matplotlib widget\n",
    "tf.__version__\n",
    "\n",
    "\n",
    "def load_numpy_as_iterator(tensor, num_epochs, batch_size, dtype=tf.float32):\n",
    "    x = tf.data.Dataset.from_tensor_slices(tf.convert_to_tensor(tensor, dtype=dtype)).repeat(num_epochs).batch(batch_size)\n",
    "    x = tf.compat.v1.data.make_one_shot_iterator(x).get_next()\n",
    "    return x\n",
    "\n"
   ]
  },
  {
   "cell_type": "code",
   "execution_count": 2,
   "metadata": {},
   "outputs": [],
   "source": [
    "input_dim = 2\n",
    "output_dim = 2\n",
    "\n",
    "input_data = np.load('data/input.npy').astype(np.float32)\n",
    "labels = np.load('data/labels.npy').astype(np.int32)\n",
    "labels = np.reshape(labels, (-1,))\n",
    "\n",
    "weights = np.load('data/weights.npy').astype(np.float32)\n",
    "\n",
    "x = tf.placeholder(\"float\", [None, input_dim])\n",
    "y = tf.placeholder(\"int32\", [None])\n",
    "\n",
    "# input_data = tf.convert_to_tensor(input_data)\n",
    "# labels = tf.convert_to_tensor(labels)\n",
    "\n"
   ]
  },
  {
   "cell_type": "code",
   "execution_count": 3,
   "metadata": {},
   "outputs": [],
   "source": [
    "# input_dim = 2\n",
    "# output_dim = 2\n",
    "\n",
    "# input_data = np.load('data/input.npy').astype(np.float32)\n",
    "# labels = np.load('data/labels.npy').astype(np.int32)\n",
    "# labels = np.reshape(labels, (-1,))\n",
    "\n",
    "# weights = np.load('data/weights.npy').astype(np.float32)\n",
    "\n",
    "# x = tf.placeholder(\"float\", [None, input_dim])\n",
    "# y = tf.placeholder(\"int32\", [None])\n",
    "# w = tf.placeholder(\"float\", [input_dim, output_dim])\n",
    "\n",
    "# layer = tf.layers.Dense(output_dim, weights=[weights], name=\"fc\", use_bias=False, activation=None)\n",
    "# logits = layer(x)\n",
    "# loss = tf.reduce_mean(tf.nn.sparse_softmax_cross_entropy_with_logits(labels=y, logits=logits))\n",
    "\n",
    "# config = tf.ConfigProto(allow_soft_placement=True)\n",
    "# with tf.train.MonitoredTrainingSession(config=config) as sess:\n",
    "#     while not sess.should_stop():\n",
    "#         loss_ = sess.run(loss, feed_dict={x:input_data, y:labels})\n",
    "# print('Loss', loss_)"
   ]
  },
  {
   "cell_type": "code",
   "execution_count": 6,
   "metadata": {},
   "outputs": [
    {
     "name": "stdout",
     "output_type": "stream",
     "text": [
      "WARNING:tensorflow:Entity <bound method Dense.call of <tensorflow.python.layers.core.Dense object at 0x7f75a4041690>> could not be transformed and will be executed as-is. Please report this to the AutgoGraph team. When filing the bug, set the verbosity to 10 (on Linux, `export AUTOGRAPH_VERBOSITY=10`) and attach the full output. Cause: converting <bound method Dense.call of <tensorflow.python.layers.core.Dense object at 0x7f75a4041690>>: AssertionError: Bad argument number for Name: 3, expecting 4\n",
      "WARNING: Entity <bound method Dense.call of <tensorflow.python.layers.core.Dense object at 0x7f75a4041690>> could not be transformed and will be executed as-is. Please report this to the AutgoGraph team. When filing the bug, set the verbosity to 10 (on Linux, `export AUTOGRAPH_VERBOSITY=10`) and attach the full output. Cause: converting <bound method Dense.call of <tensorflow.python.layers.core.Dense object at 0x7f75a4041690>>: AssertionError: Bad argument number for Name: 3, expecting 4\n"
     ]
    },
    {
     "ename": "AmbiguousRegistrationError",
     "evalue": "Tried to register <tf.Variable 'dense/kernel:0' shape=(2, 2) dtype=float32_ref> as generic without knowledge of batch_size. You can pass batch_size in to fix this error. But please note, generic registrations may be a symptom that the scanner is failing to auto-detect your model. Generic uses a last-resort approximation, and should never be used for common layer types that K-FAC properly supports, such as convs or fully-connected layers.",
     "output_type": "error",
     "traceback": [
      "\u001b[0;31m---------------------------------------------------------------------------\u001b[0m",
      "\u001b[0;31mAmbiguousRegistrationError\u001b[0m                Traceback (most recent call last)",
      "\u001b[0;32m<ipython-input-6-c0e6bc6534c3>\u001b[0m in \u001b[0;36m<module>\u001b[0;34m\u001b[0m\n\u001b[1;32m     17\u001b[0m \u001b[0mlayer_collection\u001b[0m \u001b[0;34m=\u001b[0m \u001b[0mkfac\u001b[0m\u001b[0;34m.\u001b[0m\u001b[0mLayerCollection\u001b[0m\u001b[0;34m(\u001b[0m\u001b[0;34m)\u001b[0m\u001b[0;34m\u001b[0m\u001b[0;34m\u001b[0m\u001b[0m\n\u001b[1;32m     18\u001b[0m \u001b[0mlayer_collection\u001b[0m\u001b[0;34m.\u001b[0m\u001b[0mregister_softmax_cross_entropy_loss\u001b[0m\u001b[0;34m(\u001b[0m\u001b[0mlogits\u001b[0m\u001b[0;34m,\u001b[0m \u001b[0mname\u001b[0m\u001b[0;34m=\u001b[0m\u001b[0;34m\"logits\"\u001b[0m\u001b[0;34m)\u001b[0m\u001b[0;34m\u001b[0m\u001b[0;34m\u001b[0m\u001b[0m\n\u001b[0;32m---> 19\u001b[0;31m \u001b[0mlayer_collection\u001b[0m\u001b[0;34m.\u001b[0m\u001b[0mauto_register_layers\u001b[0m\u001b[0;34m(\u001b[0m\u001b[0;34m)\u001b[0m\u001b[0;34m\u001b[0m\u001b[0;34m\u001b[0m\u001b[0m\n\u001b[0m\u001b[1;32m     20\u001b[0m \u001b[0;34m\u001b[0m\u001b[0m\n\u001b[1;32m     21\u001b[0m \u001b[0mconfig\u001b[0m \u001b[0;34m=\u001b[0m \u001b[0mtf\u001b[0m\u001b[0;34m.\u001b[0m\u001b[0mConfigProto\u001b[0m\u001b[0;34m(\u001b[0m\u001b[0mallow_soft_placement\u001b[0m\u001b[0;34m=\u001b[0m\u001b[0;32mTrue\u001b[0m\u001b[0;34m)\u001b[0m\u001b[0;34m\u001b[0m\u001b[0;34m\u001b[0m\u001b[0m\n",
      "\u001b[0;32m~/anaconda3/envs/tf1/lib/python3.7/site-packages/kfac/python/ops/layer_collection.py\u001b[0m in \u001b[0;36mauto_register_layers\u001b[0;34m(self, var_list, **kwargs)\u001b[0m\n\u001b[1;32m    391\u001b[0m     \u001b[0;32mif\u001b[0m \u001b[0mvar_list\u001b[0m \u001b[0;32mis\u001b[0m \u001b[0;32mNone\u001b[0m\u001b[0;34m:\u001b[0m\u001b[0;34m\u001b[0m\u001b[0;34m\u001b[0m\u001b[0m\n\u001b[1;32m    392\u001b[0m       \u001b[0mvar_list\u001b[0m \u001b[0;34m=\u001b[0m \u001b[0mtf\u001b[0m\u001b[0;34m.\u001b[0m\u001b[0mtrainable_variables\u001b[0m\u001b[0;34m(\u001b[0m\u001b[0;34m)\u001b[0m\u001b[0;34m\u001b[0m\u001b[0;34m\u001b[0m\u001b[0m\n\u001b[0;32m--> 393\u001b[0;31m     \u001b[0mgraph_search\u001b[0m\u001b[0;34m.\u001b[0m\u001b[0mregister_layers\u001b[0m\u001b[0;34m(\u001b[0m\u001b[0mself\u001b[0m\u001b[0;34m,\u001b[0m \u001b[0mvar_list\u001b[0m\u001b[0;34m,\u001b[0m \u001b[0;34m**\u001b[0m\u001b[0mkwargs\u001b[0m\u001b[0;34m)\u001b[0m\u001b[0;34m\u001b[0m\u001b[0;34m\u001b[0m\u001b[0m\n\u001b[0m\u001b[1;32m    394\u001b[0m \u001b[0;34m\u001b[0m\u001b[0m\n\u001b[1;32m    395\u001b[0m   \u001b[0;32mdef\u001b[0m \u001b[0mfinalize\u001b[0m\u001b[0;34m(\u001b[0m\u001b[0mself\u001b[0m\u001b[0;34m)\u001b[0m\u001b[0;34m:\u001b[0m\u001b[0;34m\u001b[0m\u001b[0;34m\u001b[0m\u001b[0m\n",
      "\u001b[0;32m~/anaconda3/envs/tf1/lib/python3.7/site-packages/kfac/python/ops/tensormatch/graph_search.py\u001b[0m in \u001b[0;36mregister_layers\u001b[0;34m(layer_collection, varlist, batch_size)\u001b[0m\n\u001b[1;32m    201\u001b[0m             \u001b[0mreuse\u001b[0m\u001b[0;34m=\u001b[0m\u001b[0mreuse\u001b[0m\u001b[0;34m,\u001b[0m\u001b[0;34m\u001b[0m\u001b[0;34m\u001b[0m\u001b[0m\n\u001b[1;32m    202\u001b[0m             \u001b[0mbatch_size\u001b[0m\u001b[0;34m=\u001b[0m\u001b[0mbatch_size\u001b[0m\u001b[0;34m,\u001b[0m\u001b[0;34m\u001b[0m\u001b[0;34m\u001b[0m\u001b[0m\n\u001b[0;32m--> 203\u001b[0;31m             subgraph=subgraph)\n\u001b[0m\u001b[1;32m    204\u001b[0m \u001b[0;34m\u001b[0m\u001b[0m\n\u001b[1;32m    205\u001b[0m   \u001b[0mfisher_blocks\u001b[0m \u001b[0;34m=\u001b[0m \u001b[0mlayer_collection\u001b[0m\u001b[0;34m.\u001b[0m\u001b[0mfisher_blocks\u001b[0m\u001b[0;34m\u001b[0m\u001b[0;34m\u001b[0m\u001b[0m\n",
      "\u001b[0;32m~/anaconda3/envs/tf1/lib/python3.7/site-packages/kfac/python/ops/tensormatch/graph_search.py\u001b[0m in \u001b[0;36mregister_subgraph_layers\u001b[0;34m(layer_collection, varlist, user_registered_variables, reuse, batch_size, subgraph)\u001b[0m\n\u001b[1;32m    328\u001b[0m             ('Tried to register {} as generic without knowledge of batch_size. '\n\u001b[1;32m    329\u001b[0m              \u001b[0;34m'You can pass batch_size in to fix this error. But please note, '\u001b[0m\u001b[0;34m\u001b[0m\u001b[0;34m\u001b[0m\u001b[0m\n\u001b[0;32m--> 330\u001b[0;31m              + generic_bad_string).format(variable))\n\u001b[0m\u001b[1;32m    331\u001b[0m       warnings.warn(('Registering {} as generic because graph scanner '\n\u001b[1;32m    332\u001b[0m                      \u001b[0;34m'couldn\\'t match a pattern for it. This can sometimes '\u001b[0m\u001b[0;34m\u001b[0m\u001b[0;34m\u001b[0m\u001b[0m\n",
      "\u001b[0;31mAmbiguousRegistrationError\u001b[0m: Tried to register <tf.Variable 'dense/kernel:0' shape=(2, 2) dtype=float32_ref> as generic without knowledge of batch_size. You can pass batch_size in to fix this error. But please note, generic registrations may be a symptom that the scanner is failing to auto-detect your model. Generic uses a last-resort approximation, and should never be used for common layer types that K-FAC properly supports, such as convs or fully-connected layers."
     ]
    }
   ],
   "source": [
    "input_dim = 2\n",
    "output_dim = 2\n",
    "\n",
    "input_data = np.load('data/input.npy').astype(np.float32)\n",
    "labels = np.load('data/labels.npy').astype(np.int32)\n",
    "labels = np.reshape(labels, (-1,))\n",
    "\n",
    "weights = np.load('data/weights.npy').astype(np.float32)\n",
    "\n",
    "input_data = tf.convert_to_tensor(input_data)\n",
    "labels = tf.convert_to_tensor(labels)\n",
    "\n",
    "layer = tf.layers.Dense(output_dim, weights=[weights], use_bias=False)\n",
    "logits = layer(input_data)\n",
    "loss = tf.reduce_mean(tf.nn.sparse_softmax_cross_entropy_with_logits(labels=labels, logits=logits))\n",
    "\n",
    "layer_collection = kfac.LayerCollection()\n",
    "layer_collection.register_softmax_cross_entropy_loss(logits, name=\"logits\")\n",
    "layer_collection.auto_register_layers()\n",
    "\n",
    "config = tf.ConfigProto(allow_soft_placement=True)\n",
    "with tf.train.MonitoredTrainingSession(config=config) as sess:\n",
    "    loss_ = sess.run(loss)\n",
    "print('Loss', loss_)"
   ]
  },
  {
   "cell_type": "code",
   "execution_count": 5,
   "metadata": {},
   "outputs": [
    {
     "name": "stdout",
     "output_type": "stream",
     "text": [
      "WARNING:tensorflow:Entity <bound method Dense.call of <tensorflow.python.layers.core.Dense object at 0x7f75a485e050>> could not be transformed and will be executed as-is. Please report this to the AutgoGraph team. When filing the bug, set the verbosity to 10 (on Linux, `export AUTOGRAPH_VERBOSITY=10`) and attach the full output. Cause: converting <bound method Dense.call of <tensorflow.python.layers.core.Dense object at 0x7f75a485e050>>: AssertionError: Bad argument number for Name: 3, expecting 4\n",
      "WARNING: Entity <bound method Dense.call of <tensorflow.python.layers.core.Dense object at 0x7f75a485e050>> could not be transformed and will be executed as-is. Please report this to the AutgoGraph team. When filing the bug, set the verbosity to 10 (on Linux, `export AUTOGRAPH_VERBOSITY=10`) and attach the full output. Cause: converting <bound method Dense.call of <tensorflow.python.layers.core.Dense object at 0x7f75a485e050>>: AssertionError: Bad argument number for Name: 3, expecting 4\n"
     ]
    },
    {
     "ename": "AmbiguousRegistrationError",
     "evalue": "Tried to register <tf.Variable 'dense/kernel:0' shape=(2, 2) dtype=float32_ref> as generic without knowledge of batch_size. You can pass batch_size in to fix this error. But please note, generic registrations may be a symptom that the scanner is failing to auto-detect your model. Generic uses a last-resort approximation, and should never be used for common layer types that K-FAC properly supports, such as convs or fully-connected layers.",
     "output_type": "error",
     "traceback": [
      "\u001b[0;31m---------------------------------------------------------------------------\u001b[0m",
      "\u001b[0;31mAmbiguousRegistrationError\u001b[0m                Traceback (most recent call last)",
      "\u001b[0;32m<ipython-input-5-dd3607465d39>\u001b[0m in \u001b[0;36m<module>\u001b[0;34m\u001b[0m\n\u001b[1;32m      4\u001b[0m \u001b[0mlayer_collection\u001b[0m \u001b[0;34m=\u001b[0m \u001b[0mkfac\u001b[0m\u001b[0;34m.\u001b[0m\u001b[0mLayerCollection\u001b[0m\u001b[0;34m(\u001b[0m\u001b[0;34m)\u001b[0m\u001b[0;34m\u001b[0m\u001b[0;34m\u001b[0m\u001b[0m\n\u001b[1;32m      5\u001b[0m \u001b[0mlayer_collection\u001b[0m\u001b[0;34m.\u001b[0m\u001b[0mregister_softmax_cross_entropy_loss\u001b[0m\u001b[0;34m(\u001b[0m\u001b[0mlogits\u001b[0m\u001b[0;34m,\u001b[0m \u001b[0mname\u001b[0m\u001b[0;34m=\u001b[0m\u001b[0;34m\"logits\"\u001b[0m\u001b[0;34m)\u001b[0m\u001b[0;34m\u001b[0m\u001b[0;34m\u001b[0m\u001b[0m\n\u001b[0;32m----> 6\u001b[0;31m \u001b[0mlayer_collection\u001b[0m\u001b[0;34m.\u001b[0m\u001b[0mauto_register_layers\u001b[0m\u001b[0;34m(\u001b[0m\u001b[0;34m)\u001b[0m\u001b[0;34m\u001b[0m\u001b[0;34m\u001b[0m\u001b[0m\n\u001b[0m",
      "\u001b[0;32m~/anaconda3/envs/tf1/lib/python3.7/site-packages/kfac/python/ops/layer_collection.py\u001b[0m in \u001b[0;36mauto_register_layers\u001b[0;34m(self, var_list, **kwargs)\u001b[0m\n\u001b[1;32m    391\u001b[0m     \u001b[0;32mif\u001b[0m \u001b[0mvar_list\u001b[0m \u001b[0;32mis\u001b[0m \u001b[0;32mNone\u001b[0m\u001b[0;34m:\u001b[0m\u001b[0;34m\u001b[0m\u001b[0;34m\u001b[0m\u001b[0m\n\u001b[1;32m    392\u001b[0m       \u001b[0mvar_list\u001b[0m \u001b[0;34m=\u001b[0m \u001b[0mtf\u001b[0m\u001b[0;34m.\u001b[0m\u001b[0mtrainable_variables\u001b[0m\u001b[0;34m(\u001b[0m\u001b[0;34m)\u001b[0m\u001b[0;34m\u001b[0m\u001b[0;34m\u001b[0m\u001b[0m\n\u001b[0;32m--> 393\u001b[0;31m     \u001b[0mgraph_search\u001b[0m\u001b[0;34m.\u001b[0m\u001b[0mregister_layers\u001b[0m\u001b[0;34m(\u001b[0m\u001b[0mself\u001b[0m\u001b[0;34m,\u001b[0m \u001b[0mvar_list\u001b[0m\u001b[0;34m,\u001b[0m \u001b[0;34m**\u001b[0m\u001b[0mkwargs\u001b[0m\u001b[0;34m)\u001b[0m\u001b[0;34m\u001b[0m\u001b[0;34m\u001b[0m\u001b[0m\n\u001b[0m\u001b[1;32m    394\u001b[0m \u001b[0;34m\u001b[0m\u001b[0m\n\u001b[1;32m    395\u001b[0m   \u001b[0;32mdef\u001b[0m \u001b[0mfinalize\u001b[0m\u001b[0;34m(\u001b[0m\u001b[0mself\u001b[0m\u001b[0;34m)\u001b[0m\u001b[0;34m:\u001b[0m\u001b[0;34m\u001b[0m\u001b[0;34m\u001b[0m\u001b[0m\n",
      "\u001b[0;32m~/anaconda3/envs/tf1/lib/python3.7/site-packages/kfac/python/ops/tensormatch/graph_search.py\u001b[0m in \u001b[0;36mregister_layers\u001b[0;34m(layer_collection, varlist, batch_size)\u001b[0m\n\u001b[1;32m    201\u001b[0m             \u001b[0mreuse\u001b[0m\u001b[0;34m=\u001b[0m\u001b[0mreuse\u001b[0m\u001b[0;34m,\u001b[0m\u001b[0;34m\u001b[0m\u001b[0;34m\u001b[0m\u001b[0m\n\u001b[1;32m    202\u001b[0m             \u001b[0mbatch_size\u001b[0m\u001b[0;34m=\u001b[0m\u001b[0mbatch_size\u001b[0m\u001b[0;34m,\u001b[0m\u001b[0;34m\u001b[0m\u001b[0;34m\u001b[0m\u001b[0m\n\u001b[0;32m--> 203\u001b[0;31m             subgraph=subgraph)\n\u001b[0m\u001b[1;32m    204\u001b[0m \u001b[0;34m\u001b[0m\u001b[0m\n\u001b[1;32m    205\u001b[0m   \u001b[0mfisher_blocks\u001b[0m \u001b[0;34m=\u001b[0m \u001b[0mlayer_collection\u001b[0m\u001b[0;34m.\u001b[0m\u001b[0mfisher_blocks\u001b[0m\u001b[0;34m\u001b[0m\u001b[0;34m\u001b[0m\u001b[0m\n",
      "\u001b[0;32m~/anaconda3/envs/tf1/lib/python3.7/site-packages/kfac/python/ops/tensormatch/graph_search.py\u001b[0m in \u001b[0;36mregister_subgraph_layers\u001b[0;34m(layer_collection, varlist, user_registered_variables, reuse, batch_size, subgraph)\u001b[0m\n\u001b[1;32m    328\u001b[0m             ('Tried to register {} as generic without knowledge of batch_size. '\n\u001b[1;32m    329\u001b[0m              \u001b[0;34m'You can pass batch_size in to fix this error. But please note, '\u001b[0m\u001b[0;34m\u001b[0m\u001b[0;34m\u001b[0m\u001b[0m\n\u001b[0;32m--> 330\u001b[0;31m              + generic_bad_string).format(variable))\n\u001b[0m\u001b[1;32m    331\u001b[0m       warnings.warn(('Registering {} as generic because graph scanner '\n\u001b[1;32m    332\u001b[0m                      \u001b[0;34m'couldn\\'t match a pattern for it. This can sometimes '\u001b[0m\u001b[0;34m\u001b[0m\u001b[0;34m\u001b[0m\u001b[0m\n",
      "\u001b[0;31mAmbiguousRegistrationError\u001b[0m: Tried to register <tf.Variable 'dense/kernel:0' shape=(2, 2) dtype=float32_ref> as generic without knowledge of batch_size. You can pass batch_size in to fix this error. But please note, generic registrations may be a symptom that the scanner is failing to auto-detect your model. Generic uses a last-resort approximation, and should never be used for common layer types that K-FAC properly supports, such as convs or fully-connected layers."
     ]
    }
   ],
   "source": [
    "layer = tf.layers.Dense(output_dim, weights=[weights], name=\"fc\", use_bias=False)\n",
    "logits = layer(input_data)\n",
    "loss = tf.reduce_mean(tf.nn.sparse_softmax_cross_entropy_with_logits(labels=labels, logits=logits))\n",
    "layer_collection = kfac.LayerCollection()\n",
    "layer_collection.register_softmax_cross_entropy_loss(logits, name=\"logits\")\n",
    "layer_collection.auto_register_layers()"
   ]
  },
  {
   "cell_type": "markdown",
   "metadata": {},
   "source": [
    "### First lets compare the pure loss computation"
   ]
  },
  {
   "cell_type": "markdown",
   "metadata": {},
   "source": [
    "### This time with kfac"
   ]
  },
  {
   "cell_type": "code",
   "execution_count": null,
   "metadata": {},
   "outputs": [],
   "source": [
    "kfac_optimizer = kfac.PeriodicInvCovUpdateKfacOpt(learning_rate=0.00, damping=0.001, layer_collection=layer_collection)\n",
    "kfac_train_op = kfac_optimizer.minimize(loss)"
   ]
  },
  {
   "cell_type": "code",
   "execution_count": null,
   "metadata": {
    "scrolled": true
   },
   "outputs": [],
   "source": [
    "\n",
    "cov_vars = kfac_optimizer.get_cov_vars()\n",
    "\n",
    "history = []\n",
    "losses = []\n",
    "with tf.train.MonitoredTrainingSession() as sess:\n",
    "    for i in range(100):\n",
    "        loss_, converged_, covs_ = sess.run([loss, kfac_train_op, cov_vars])\n",
    "        losses.append(loss_)"
   ]
  },
  {
   "cell_type": "code",
   "execution_count": null,
   "metadata": {},
   "outputs": [],
   "source": [
    "losses"
   ]
  },
  {
   "cell_type": "code",
   "execution_count": null,
   "metadata": {},
   "outputs": [],
   "source": [
    "plt.close()\n",
    "plot_3d(history, np.load('data/input.npy'), np.load('data/target.npy'))\n",
    "plt.show()"
   ]
  },
  {
   "cell_type": "code",
   "execution_count": null,
   "metadata": {},
   "outputs": [],
   "source": [
    "plt.close()\n",
    "plt.title('TF1 KFAC')\n",
    "plot_2d(history, np.load('data/input.npy'), np.load('data/target.npy'), (-0.5, 1, -3, 1))\n",
    "plt.show()"
   ]
  },
  {
   "cell_type": "code",
   "execution_count": null,
   "metadata": {},
   "outputs": [],
   "source": []
  }
 ],
 "metadata": {
  "kernelspec": {
   "display_name": "Python 3",
   "language": "python",
   "name": "python3"
  },
  "language_info": {
   "codemirror_mode": {
    "name": "ipython",
    "version": 3
   },
   "file_extension": ".py",
   "mimetype": "text/x-python",
   "name": "python",
   "nbconvert_exporter": "python",
   "pygments_lexer": "ipython3",
   "version": "3.7.7"
  }
 },
 "nbformat": 4,
 "nbformat_minor": 4
}
